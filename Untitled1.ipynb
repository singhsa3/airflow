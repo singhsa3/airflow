{
 "cells": [
  {
   "cell_type": "code",
   "execution_count": 1,
   "id": "d794c3dc-605f-4204-b3e3-0539fec949f9",
   "metadata": {
    "tags": []
   },
   "outputs": [
    {
     "name": "stdout",
     "output_type": "stream",
     "text": [
      "Requirement already satisfied: matplotlib in /media/sanjeev/data/anc/envs/airflow/lib/python3.7/site-packages (3.5.3)\n",
      "Requirement already satisfied: python-dateutil>=2.7 in /media/sanjeev/data/anc/envs/airflow/lib/python3.7/site-packages (from matplotlib) (2.8.2)\n",
      "Requirement already satisfied: numpy>=1.17 in /media/sanjeev/data/anc/envs/airflow/lib/python3.7/site-packages (from matplotlib) (1.21.6)\n",
      "Requirement already satisfied: cycler>=0.10 in /media/sanjeev/data/anc/envs/airflow/lib/python3.7/site-packages (from matplotlib) (0.11.0)\n",
      "Requirement already satisfied: pillow>=6.2.0 in /media/sanjeev/data/anc/envs/airflow/lib/python3.7/site-packages (from matplotlib) (9.4.0)\n",
      "Requirement already satisfied: pyparsing>=2.2.1 in /media/sanjeev/data/anc/envs/airflow/lib/python3.7/site-packages (from matplotlib) (3.0.9)\n",
      "Requirement already satisfied: fonttools>=4.22.0 in /media/sanjeev/data/anc/envs/airflow/lib/python3.7/site-packages (from matplotlib) (4.38.0)\n",
      "Requirement already satisfied: packaging>=20.0 in /media/sanjeev/data/anc/envs/airflow/lib/python3.7/site-packages (from matplotlib) (21.3)\n",
      "Requirement already satisfied: kiwisolver>=1.0.1 in /media/sanjeev/data/anc/envs/airflow/lib/python3.7/site-packages (from matplotlib) (1.4.4)\n",
      "Requirement already satisfied: typing-extensions in /media/sanjeev/data/anc/envs/airflow/lib/python3.7/site-packages (from kiwisolver>=1.0.1->matplotlib) (4.5.0)\n",
      "Requirement already satisfied: six>=1.5 in /media/sanjeev/data/anc/envs/airflow/lib/python3.7/site-packages (from python-dateutil>=2.7->matplotlib) (1.16.0)\n"
     ]
    },
    {
     "name": "stderr",
     "output_type": "stream",
     "text": [
      "WARNING: Error parsing requirements for boto3: [Errno 2] No such file or directory: '/media/sanjeev/data/anc/envs/airflow/lib/python3.7/site-packages/boto3-1.26.79.dist-info/METADATA'\n"
     ]
    },
    {
     "data": {
      "text/plain": [
       "0"
      ]
     },
     "execution_count": 1,
     "metadata": {},
     "output_type": "execute_result"
    }
   ],
   "source": [
    "import os\n",
    "os.system(\"python -m pip install matplotlib\")"
   ]
  },
  {
   "cell_type": "code",
   "execution_count": null,
   "id": "9b7cd5d6-5c2f-468b-b327-5177b4040614",
   "metadata": {},
   "outputs": [],
   "source": []
  }
 ],
 "metadata": {
  "kernelspec": {
   "display_name": "Python 3 (ipykernel)",
   "language": "python",
   "name": "python3"
  },
  "language_info": {
   "codemirror_mode": {
    "name": "ipython",
    "version": 3
   },
   "file_extension": ".py",
   "mimetype": "text/x-python",
   "name": "python",
   "nbconvert_exporter": "python",
   "pygments_lexer": "ipython3",
   "version": "3.7.16"
  }
 },
 "nbformat": 4,
 "nbformat_minor": 5
}
