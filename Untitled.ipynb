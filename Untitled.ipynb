{
 "cells": [
  {
   "cell_type": "code",
   "execution_count": 13,
   "id": "b4adffcc-c4b0-4c9b-acc7-133925e4fa44",
   "metadata": {
    "tags": []
   },
   "outputs": [],
   "source": [
    "import pip\n",
    "import os\n",
    "\n",
    "def import_or_install(package):\n",
    "    try:\n",
    "        __import__(package)\n",
    "        print(package + \" already exists\" )\n",
    "    except ImportError:        \n",
    "        os.system(\"python -m pip install \" +package)\n",
    "        #pip.main(['install', package])  \n",
    "filename=\"requirements.txt\"\n",
    "with open(filename) as file:\n",
    "    lines = [line.rstrip() for line in file]\n",
    "for package in lines:\n",
    "    import_or_install(package)\n",
    "os.system('rm test1.txt')\n",
    "os.system('echo \"I am all done\" > test1.txt')"
   ]
  },
  {
   "cell_type": "code",
   "execution_count": 16,
   "id": "f46e37ec-2b25-4837-8b7b-87182f1395e7",
   "metadata": {
    "tags": []
   },
   "outputs": [],
   "source": [
    "import os"
   ]
  },
  {
   "cell_type": "code",
   "execution_count": 20,
   "id": "607ce444-0335-48c6-b574-2b88b7c8a8bb",
   "metadata": {
    "tags": []
   },
   "outputs": [
    {
     "name": "stderr",
     "output_type": "stream",
     "text": [
      "rm: cannot remove 'test1.txt': No such file or directory\n"
     ]
    },
    {
     "data": {
      "text/plain": [
       "0"
      ]
     },
     "execution_count": 20,
     "metadata": {},
     "output_type": "execute_result"
    }
   ],
   "source": []
  },
  {
   "cell_type": "code",
   "execution_count": null,
   "id": "8a9c698e-10e6-4069-814e-5a56b58eb4fb",
   "metadata": {},
   "outputs": [],
   "source": []
  }
 ],
 "metadata": {
  "kernelspec": {
   "display_name": "Python 3 (ipykernel)",
   "language": "python",
   "name": "python3"
  },
  "language_info": {
   "codemirror_mode": {
    "name": "ipython",
    "version": 3
   },
   "file_extension": ".py",
   "mimetype": "text/x-python",
   "name": "python",
   "nbconvert_exporter": "python",
   "pygments_lexer": "ipython3",
   "version": "3.7.16"
  }
 },
 "nbformat": 4,
 "nbformat_minor": 5
}
